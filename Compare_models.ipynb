{
  "nbformat": 4,
  "nbformat_minor": 0,
  "metadata": {
    "colab": {
      "name": "Compare models.ipynb",
      "provenance": [],
      "collapsed_sections": [],
      "toc_visible": true,
      "mount_file_id": "1D9Am3nr0Uqen9yuDA0Lk_HoJUWQWFGJA",
      "authorship_tag": "ABX9TyMWKWuYcoiusC43beMVJoYc",
      "include_colab_link": true
    },
    "kernelspec": {
      "name": "python3",
      "display_name": "Python 3"
    },
    "language_info": {
      "name": "python"
    }
  },
  "cells": [
    {
      "cell_type": "markdown",
      "metadata": {
        "id": "view-in-github",
        "colab_type": "text"
      },
      "source": [
        "<a href=\"https://colab.research.google.com/github/Lingling-Lin/STAT-project/blob/master/Compare_models.ipynb\" target=\"_parent\"><img src=\"https://colab.research.google.com/assets/colab-badge.svg\" alt=\"Open In Colab\"/></a>"
      ]
    },
    {
      "cell_type": "markdown",
      "source": [
        "## **Simulation framework for model recovery with PCM**"
      ],
      "metadata": {
        "id": "iIhshofN6hh7"
      }
    },
    {
      "cell_type": "markdown",
      "source": [
        "We will do model recovery with PCM using the three fixed models from [Ejaz et al. (2015)](http://www.diedrichsenlab.org/pubs/Ejaz_NN_2015.pdf). *Hand usage predicts the structure of representations in sensorimotor cortex*, Nature Neuroscience.\n",
        "\n",
        "The three fixed models are:\n",
        "\n",
        "\n",
        "*   Null: G = np.eye, all finger patterns are equally far away from each other \n",
        "*   Muscle: Fixed model with G = covariance of muscle activities \n",
        "*   Natural: Fixed model with G = covariance of natural movement\n",
        "\n",
        "where Muscle and Natural models are two competing models in our case; for convenience, we denote these three models by $G_0, G_1,G_2$, respectively.\n",
        "\n",
        "Specifically, our goal in this section is to use simulated data sets to evaluate how well PCM adjudicated between these two competing models in a situation where the ground-truth (i.e. either muscle model or natural/usage model) is known.\n",
        "\n",
        "\n"
      ],
      "metadata": {
        "id": "7SpYaFzn9YCY"
      }
    },
    {
      "cell_type": "code",
      "execution_count": 2,
      "metadata": {
        "colab": {
          "base_uri": "https://localhost:8080/"
        },
        "id": "yKVvGChsLJES",
        "outputId": "b5eeca99-5135-4b46-8154-d7c49bbbd7f3"
      },
      "outputs": [
        {
          "output_type": "stream",
          "name": "stdout",
          "text": [
            "Collecting PcmPy\n",
            "  Downloading PcmPy-0.9.1.tar.gz (21 kB)\n",
            "Requirement already satisfied: numpy in /usr/local/lib/python3.7/dist-packages (from PcmPy) (1.19.5)\n",
            "Requirement already satisfied: pandas in /usr/local/lib/python3.7/dist-packages (from PcmPy) (1.1.5)\n",
            "Requirement already satisfied: scipy in /usr/local/lib/python3.7/dist-packages (from PcmPy) (1.4.1)\n",
            "Requirement already satisfied: matplotlib in /usr/local/lib/python3.7/dist-packages (from PcmPy) (3.2.2)\n",
            "Requirement already satisfied: seaborn in /usr/local/lib/python3.7/dist-packages (from PcmPy) (0.11.2)\n",
            "Requirement already satisfied: cycler>=0.10 in /usr/local/lib/python3.7/dist-packages (from matplotlib->PcmPy) (0.11.0)\n",
            "Requirement already satisfied: pyparsing!=2.0.4,!=2.1.2,!=2.1.6,>=2.0.1 in /usr/local/lib/python3.7/dist-packages (from matplotlib->PcmPy) (3.0.6)\n",
            "Requirement already satisfied: python-dateutil>=2.1 in /usr/local/lib/python3.7/dist-packages (from matplotlib->PcmPy) (2.8.2)\n",
            "Requirement already satisfied: kiwisolver>=1.0.1 in /usr/local/lib/python3.7/dist-packages (from matplotlib->PcmPy) (1.3.2)\n",
            "Requirement already satisfied: six>=1.5 in /usr/local/lib/python3.7/dist-packages (from python-dateutil>=2.1->matplotlib->PcmPy) (1.15.0)\n",
            "Requirement already satisfied: pytz>=2017.2 in /usr/local/lib/python3.7/dist-packages (from pandas->PcmPy) (2018.9)\n",
            "Building wheels for collected packages: PcmPy\n",
            "  Building wheel for PcmPy (setup.py) ... \u001b[?25l\u001b[?25hdone\n",
            "  Created wheel for PcmPy: filename=PcmPy-0.9.1-py3-none-any.whl size=24553 sha256=377af89cd718e43dbb4e7886ec00a7462b8a6649c1f71e3685d59b2bce582086\n",
            "  Stored in directory: /root/.cache/pip/wheels/6b/f9/ee/201a7cb712e6b8ecc96c8584cb618ff1e2bbf0d24d5e9d4ad7\n",
            "Successfully built PcmPy\n",
            "Installing collected packages: PcmPy\n",
            "Successfully installed PcmPy-0.9.1\n"
          ]
        }
      ],
      "source": [
        "!pip install PcmPy"
      ]
    },
    {
      "cell_type": "code",
      "source": [
        "# Import necessary libraries\n",
        "import PcmPy as pcm\n",
        "import numpy as np\n",
        "import pickle\n",
        "import pandas as pd\n",
        "import matplotlib.pyplot as plt\n",
        "import seaborn as sns\n",
        "import statistics\n",
        "import itertools"
      ],
      "metadata": {
        "id": "i1CYLkp9Ldrm"
      },
      "execution_count": 3,
      "outputs": []
    },
    {
      "cell_type": "markdown",
      "source": [
        "Read in the activity Data (`Data`), condition vector (`cond_vec`), partition vector (`part_vec`), and model matrices for Muscle and Natural stats Models (`M`):"
      ],
      "metadata": {
        "id": "9YM_Ts_bB9Tz"
      }
    },
    {
      "cell_type": "code",
      "source": [
        "f = open('/content/drive/MyDrive/PcmPy/docs/demos/data_demo_finger7T.p','rb')\n",
        "Data,cond_vec,part_vec,modelM = pickle.load(f)\n",
        "f.close()"
      ],
      "metadata": {
        "id": "LRiaVS-kL0Yw"
      },
      "execution_count": 4,
      "outputs": []
    },
    {
      "cell_type": "markdown",
      "source": [
        "## Build models"
      ],
      "metadata": {
        "id": "TLCRskRlSsOY"
      }
    },
    {
      "cell_type": "markdown",
      "source": [
        "Now we are building a list of models, using a list of second moment matrices"
      ],
      "metadata": {
        "id": "CCyU9fPXFsYz"
      }
    },
    {
      "cell_type": "code",
      "source": [
        "# Make an empty list\n",
        "M = []\n",
        "# Null model: All fingers are represented independently.\n",
        "# For RSA model that would mean that all distances are equivalent\n",
        "M.append(pcm.FixedModel('null',np.eye(5)))\n",
        "# Muscle model: Structure is given by covariance structure of EMG signals\n",
        "M.append(pcm.FixedModel('muscle',modelM[0]))\n",
        "# Usage model: Structure is given by covariance structure of EMG signals\n",
        "M.append(pcm.FixedModel('usage',modelM[1]))"
      ],
      "metadata": {
        "id": "QxVzhhwpLieI"
      },
      "execution_count": 5,
      "outputs": []
    },
    {
      "cell_type": "markdown",
      "source": [
        "## Data simulation and Model fitting"
      ],
      "metadata": {
        "id": "opOUnZHm8Xhv"
      }
    },
    {
      "cell_type": "markdown",
      "source": [
        "To simulate a data set, we need to make a design. In our case, it is 5 conditions (each finger is a condition) and 8 runs. "
      ],
      "metadata": {
        "id": "xN2gRVGGiHqV"
      }
    },
    {
      "cell_type": "code",
      "source": [
        "# Make a design in this case it's 8 runs, 5 conditions\n",
        "cond, part = pcm.make_design(5,8)"
      ],
      "metadata": {
        "id": "_0_laKrTqHNR"
      },
      "execution_count": 6,
      "outputs": []
    },
    {
      "cell_type": "markdown",
      "source": [
        "We then generate 500 data set (`Y`) either from muscle model or usage model (ground truth) with fixed parameter value 0.5, fixed noise variance 1, and alterable signal variance(s). We use 500 data sets because it will obtain a smoother curve in the plot than 100 data sets. "
      ],
      "metadata": {
        "id": "CRNOHcG6GwHt"
      }
    },
    {
      "cell_type": "markdown",
      "source": [
        "Now we can fit the models to the data set in one go. The data frame `T_in` has the log-likelihood for each model (i.e. the log-likelihood for $G_0, G_1$ and $G_2$). In this example, we use the log-likelihood as PCM criteria. That is, to evaluate how well PCM selected between the two competing models, we compare the log-likelihood obtained from the fit of the true model (i.e. the model that generated that perticular data set) with that obtained from alternative competing model by counting the number of instances, in which PCM decided in favor of the correct model. The proportion of correct decision `PropC` ($\\times 100\\%$) over two competing models and simulation is used to measure the model-selection accuracy. \n",
        "\n"
      ],
      "metadata": {
        "id": "XCkj_U_HvMJc"
      }
    },
    {
      "cell_type": "code",
      "source": [
        "mus = list()# The log-likelihood(logL) values for muscle model\n",
        "usa = list() # The logL values for usage model\n",
        "C = list() #boolean list; true if mus >= usa otherwise false\n",
        "# For the first 500 sim(s) (G1 is true model) if mus >= usa, convert boolean \n",
        "# true be 1 false be 0. Vice versa for the second 500 sims.\n",
        "correct = list() # a list contained either 0 or 1\n",
        "propC = list() # proportion of correct decision\n",
        "def GDP(s):\n",
        "  C.clear()\n",
        "  mus.clear()\n",
        "  usa.clear()\n",
        "  correct.clear()\n",
        "  #for the first loop G1 is true model; for the second loop G2 is true model\n",
        "  for i in range(1,3):\n",
        "    # M[1] - muscle model (G1); M[2] - usage model(G2)\n",
        "    # Y is generated by true model\n",
        "    Y = pcm.sim.make_dataset(M[i], 0.5, cond, part_vec = part, n_sim = 500, signal = s, noise = 1)\n",
        "    # Fits Models to a data set inidividually.\n",
        "    T_in, theta_in = pcm.fit_model_individ(Y, M, fit_scale = True, verbose = False) \n",
        "    # use logL as PCM criteria\n",
        "    L = T_in.likelihood.to_numpy()\n",
        "    mus.append(L[:,1])\n",
        "    usa.append(L[:,2])\n",
        "  for i in range(0,len(mus)):\n",
        "    C.append(mus[i] >= usa[i])\n",
        "  correct.append([1 if (C[0])[v] == True else 0 for v in range(0, len(C[0]))])\n",
        "  correct.append([1 if (C[1])[v] == False else 0 for v in range(0, len(C[1]))])\n",
        "  propC.append(statistics.mean(correct[0] + correct[1])) # use + to flatten two lists\n"
      ],
      "metadata": {
        "id": "jgyxinqUTKAF"
      },
      "execution_count": 12,
      "outputs": []
    },
    {
      "cell_type": "markdown",
      "source": [
        "We call the function `GDP` with increasing signal variances `sig` from 0 to 1 with step = 0.1"
      ],
      "metadata": {
        "id": "eoxtXkMxdNNy"
      }
    },
    {
      "cell_type": "code",
      "source": [
        "sig = np.arange(0.0, 1.1, 0.1)\n",
        "for i in sig:\n",
        "  GDP(i)"
      ],
      "metadata": {
        "id": "q5lYj5nIbhGe"
      },
      "execution_count": 13,
      "outputs": []
    },
    {
      "cell_type": "code",
      "source": [
        "propC"
      ],
      "metadata": {
        "colab": {
          "base_uri": "https://localhost:8080/"
        },
        "id": "AvxuVbQEgK4S",
        "outputId": "f05dbc3b-221b-4cf0-cb5d-955a45e9d099"
      },
      "execution_count": 14,
      "outputs": [
        {
          "output_type": "execute_result",
          "data": {
            "text/plain": [
              "[0.504, 0.55, 0.587, 0.649, 0.695, 0.703, 0.751, 0.765, 0.768, 0.78, 0.783]"
            ]
          },
          "metadata": {},
          "execution_count": 14
        }
      ]
    },
    {
      "cell_type": "markdown",
      "source": [
        "## Model selection accuracy for PCM"
      ],
      "metadata": {
        "id": "22000FGwGEsn"
      }
    },
    {
      "cell_type": "markdown",
      "source": [
        "The model selection accuracy for PCM is shown below. As we can see, when signal strenth = 0, the proportion of correct decision (`PropC`) is near 0.5; `propC` is near 0.8 when signal = 1. When signal variance is large such as 100, `propC` will near 1. "
      ],
      "metadata": {
        "id": "9ReSO1IzMIt_"
      }
    },
    {
      "cell_type": "code",
      "source": [
        "plt.plot(sig, propC)\n",
        "# naming the x axis\n",
        "plt.xlabel('signal')\n",
        "# naming the y axis\n",
        "plt.ylabel('proportion of correct (100%)')"
      ],
      "metadata": {
        "colab": {
          "base_uri": "https://localhost:8080/",
          "height": 296
        },
        "id": "2NWST7DRei6k",
        "outputId": "8f6e9ddd-1975-4cb1-fe3b-46b77820a136"
      },
      "execution_count": 15,
      "outputs": [
        {
          "output_type": "execute_result",
          "data": {
            "text/plain": [
              "Text(0, 0.5, 'proportion of correct (100%)')"
            ]
          },
          "metadata": {},
          "execution_count": 15
        },
        {
          "output_type": "display_data",
          "data": {
            "image/png": "[encoded data removed]",
            "text/plain": [
              "<Figure size 432x288 with 1 Axes>"
            ]
          },
          "metadata": {
            "needs_background": "light"
          }
        }
      ]
    },
    {
      "cell_type": "markdown",
      "source": [
        ""
      ],
      "metadata": {
        "id": "x9PVDbE8L6N-"
      }
    }
  ]
}